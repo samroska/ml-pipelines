{
 "cells": [
  {
   "cell_type": "code",
   "execution_count": 1,
   "metadata": {},
   "outputs": [],
   "source": [
    "import pandas as pd"
   ]
  },
  {
   "cell_type": "code",
   "execution_count": 13,
   "metadata": {},
   "outputs": [],
   "source": [
    "ebay_df = pd.read_csv('./data/ebay.csv',index_col=0)\n",
    "admit_df = pd.read_csv('./data/admit.csv',index_col=0)\n",
    "promote_df = pd.read_csv('./data/promote.csv',index_col=0)"
   ]
  },
  {
   "cell_type": "code",
   "execution_count": null,
   "metadata": {},
   "outputs": [],
   "source": []
  },
  {
   "cell_type": "code",
   "execution_count": 16,
   "metadata": {},
   "outputs": [
    {
     "data": {
      "text/html": [
       "<div>\n",
       "<style scoped>\n",
       "    .dataframe tbody tr th:only-of-type {\n",
       "        vertical-align: middle;\n",
       "    }\n",
       "\n",
       "    .dataframe tbody tr th {\n",
       "        vertical-align: top;\n",
       "    }\n",
       "\n",
       "    .dataframe thead th {\n",
       "        text-align: right;\n",
       "    }\n",
       "</style>\n",
       "<table border=\"1\" class=\"dataframe\">\n",
       "  <thead>\n",
       "    <tr style=\"text-align: right;\">\n",
       "      <th></th>\n",
       "      <th>item_category</th>\n",
       "      <th>item_condition</th>\n",
       "      <th>seller_rating</th>\n",
       "      <th>auction_duration</th>\n",
       "      <th>starting_price</th>\n",
       "      <th>number_of_bidders</th>\n",
       "      <th>buy_price</th>\n",
       "      <th>ship_price</th>\n",
       "    </tr>\n",
       "  </thead>\n",
       "  <tbody>\n",
       "    <tr>\n",
       "      <th>0</th>\n",
       "      <td>Art</td>\n",
       "      <td>New</td>\n",
       "      <td>2.66</td>\n",
       "      <td>24</td>\n",
       "      <td>409.94</td>\n",
       "      <td>46</td>\n",
       "      <td>1352.80</td>\n",
       "      <td>27.0560</td>\n",
       "    </tr>\n",
       "    <tr>\n",
       "      <th>1</th>\n",
       "      <td>Electronics</td>\n",
       "      <td>Refurbished</td>\n",
       "      <td>4.69</td>\n",
       "      <td>48</td>\n",
       "      <td>907.60</td>\n",
       "      <td>48</td>\n",
       "      <td>3085.84</td>\n",
       "      <td>61.7168</td>\n",
       "    </tr>\n",
       "    <tr>\n",
       "      <th>2</th>\n",
       "      <td>Electronics</td>\n",
       "      <td>New</td>\n",
       "      <td>1.35</td>\n",
       "      <td>72</td>\n",
       "      <td>988.20</td>\n",
       "      <td>77</td>\n",
       "      <td>4792.77</td>\n",
       "      <td>95.8554</td>\n",
       "    </tr>\n",
       "    <tr>\n",
       "      <th>3</th>\n",
       "      <td>Fashion</td>\n",
       "      <td>Refurbished</td>\n",
       "      <td>2.71</td>\n",
       "      <td>48</td>\n",
       "      <td>882.38</td>\n",
       "      <td>51</td>\n",
       "      <td>3132.45</td>\n",
       "      <td>62.6490</td>\n",
       "    </tr>\n",
       "    <tr>\n",
       "      <th>4</th>\n",
       "      <td>Antiques</td>\n",
       "      <td>New</td>\n",
       "      <td>4.14</td>\n",
       "      <td>96</td>\n",
       "      <td>901.39</td>\n",
       "      <td>21</td>\n",
       "      <td>1847.85</td>\n",
       "      <td>36.9570</td>\n",
       "    </tr>\n",
       "  </tbody>\n",
       "</table>\n",
       "</div>"
      ],
      "text/plain": [
       "  item_category item_condition  seller_rating  auction_duration  \\\n",
       "0           Art            New           2.66                24   \n",
       "1   Electronics    Refurbished           4.69                48   \n",
       "2   Electronics            New           1.35                72   \n",
       "3       Fashion    Refurbished           2.71                48   \n",
       "4      Antiques            New           4.14                96   \n",
       "\n",
       "   starting_price  number_of_bidders  buy_price  ship_price  \n",
       "0          409.94                 46    1352.80     27.0560  \n",
       "1          907.60                 48    3085.84     61.7168  \n",
       "2          988.20                 77    4792.77     95.8554  \n",
       "3          882.38                 51    3132.45     62.6490  \n",
       "4          901.39                 21    1847.85     36.9570  "
      ]
     },
     "execution_count": 16,
     "metadata": {},
     "output_type": "execute_result"
    }
   ],
   "source": [
    "ebay_df.head()"
   ]
  },
  {
   "cell_type": "code",
   "execution_count": 32,
   "metadata": {},
   "outputs": [
    {
     "data": {
      "text/html": [
       "<div>\n",
       "<style scoped>\n",
       "    .dataframe tbody tr th:only-of-type {\n",
       "        vertical-align: middle;\n",
       "    }\n",
       "\n",
       "    .dataframe tbody tr th {\n",
       "        vertical-align: top;\n",
       "    }\n",
       "\n",
       "    .dataframe thead th {\n",
       "        text-align: right;\n",
       "    }\n",
       "</style>\n",
       "<table border=\"1\" class=\"dataframe\">\n",
       "  <thead>\n",
       "    <tr style=\"text-align: right;\">\n",
       "      <th></th>\n",
       "      <th>starting_price</th>\n",
       "      <th>buy_price</th>\n",
       "    </tr>\n",
       "    <tr>\n",
       "      <th>item_category</th>\n",
       "      <th></th>\n",
       "      <th></th>\n",
       "    </tr>\n",
       "  </thead>\n",
       "  <tbody>\n",
       "    <tr>\n",
       "      <th>Antiques</th>\n",
       "      <td>506.415294</td>\n",
       "      <td>1710.458775</td>\n",
       "    </tr>\n",
       "    <tr>\n",
       "      <th>Art</th>\n",
       "      <td>513.147250</td>\n",
       "      <td>1770.887000</td>\n",
       "    </tr>\n",
       "    <tr>\n",
       "      <th>Automotive</th>\n",
       "      <td>556.364450</td>\n",
       "      <td>1960.449150</td>\n",
       "    </tr>\n",
       "    <tr>\n",
       "      <th>Electronics</th>\n",
       "      <td>496.288376</td>\n",
       "      <td>1735.403299</td>\n",
       "    </tr>\n",
       "    <tr>\n",
       "      <th>Fashion</th>\n",
       "      <td>487.696482</td>\n",
       "      <td>1775.425578</td>\n",
       "    </tr>\n",
       "  </tbody>\n",
       "</table>\n",
       "</div>"
      ],
      "text/plain": [
       "               starting_price    buy_price\n",
       "item_category                             \n",
       "Antiques           506.415294  1710.458775\n",
       "Art                513.147250  1770.887000\n",
       "Automotive         556.364450  1960.449150\n",
       "Electronics        496.288376  1735.403299\n",
       "Fashion            487.696482  1775.425578"
      ]
     },
     "execution_count": 32,
     "metadata": {},
     "output_type": "execute_result"
    }
   ],
   "source": [
    "ebay_df[['item_category','starting_price','buy_price']].groupby('item_category').mean()"
   ]
  },
  {
   "cell_type": "code",
   "execution_count": 28,
   "metadata": {},
   "outputs": [
    {
     "data": {
      "text/plain": [
       "item_category        0\n",
       "item_condition       0\n",
       "seller_rating        0\n",
       "auction_duration     0\n",
       "starting_price       0\n",
       "number_of_bidders    0\n",
       "buy_price            0\n",
       "ship_price           0\n",
       "dtype: int64"
      ]
     },
     "execution_count": 28,
     "metadata": {},
     "output_type": "execute_result"
    }
   ],
   "source": [
    "ebay_df.isnull().sum()"
   ]
  },
  {
   "cell_type": "code",
   "execution_count": 30,
   "metadata": {},
   "outputs": [
    {
     "data": {
      "text/plain": [
       "item_category\n",
       "Antiques       204\n",
       "Art            200\n",
       "Automotive     200\n",
       "Fashion        199\n",
       "Electronics    197\n",
       "Name: count, dtype: int64"
      ]
     },
     "execution_count": 30,
     "metadata": {},
     "output_type": "execute_result"
    }
   ],
   "source": [
    "ebay_df['item_category'].value_counts()"
   ]
  }
 ],
 "metadata": {
  "kernelspec": {
   "display_name": "Python 3",
   "language": "python",
   "name": "python3"
  },
  "language_info": {
   "codemirror_mode": {
    "name": "ipython",
    "version": 3
   },
   "file_extension": ".py",
   "mimetype": "text/x-python",
   "name": "python",
   "nbconvert_exporter": "python",
   "pygments_lexer": "ipython3",
   "version": "3.11.8"
  }
 },
 "nbformat": 4,
 "nbformat_minor": 2
}
